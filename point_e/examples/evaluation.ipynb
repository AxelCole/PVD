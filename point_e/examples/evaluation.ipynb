{
 "cells": [
  {
   "cell_type": "code",
   "execution_count": 11,
   "metadata": {},
   "outputs": [],
   "source": [
    "import argparse\n",
    "\n",
    "from point_e.evals.feature_extractor import PointNetClassifier, get_torch_devices\n",
    "from point_e.evals.fid_is import compute_statistics, compute_inception_score\n",
    "from point_e.evals.npz_stream import NpzStreamer\n",
    "\n",
    "import torch\n",
    "import numpy as np\n",
    "import os"
   ]
  },
  {
   "cell_type": "code",
   "execution_count": 12,
   "metadata": {},
   "outputs": [],
   "source": [
    "def npy2npz(data_dir, save_path):\n",
    "    file_list = [os.path.join(data_dir, f) for f in os.listdir(data_dir) if f.endswith('.npy')]\n",
    "    point_clouds = np.stack([np.load(file) for file in file_list])\n",
    "    np.savez(save_path, point_clouds)"
   ]
  },
  {
   "cell_type": "code",
   "execution_count": 13,
   "metadata": {},
   "outputs": [
    {
     "name": "stderr",
     "output_type": "stream",
     "text": [
      "/home/anguyenk/Documents/point-e/point_e/models/download.py:78: FutureWarning: You are using `torch.load` with `weights_only=False` (the current default value), which uses the default pickle module implicitly. It is possible to construct malicious pickle data which will execute arbitrary code during unpickling (See https://github.com/pytorch/pytorch/blob/main/SECURITY.md#untrusted-models for more details). In a future release, the default value for `weights_only` will be flipped to `True`. This limits the functions that could be executed during unpickling. Arbitrary objects will no longer be allowed to be loaded via this mode unless they are explicitly allowlisted by the user via `torch.serialization.add_safe_globals`. We recommend you start setting `weights_only=True` for any use case where you don't have full control of the loaded file. Please open an issue on GitHub for any issues related to this experimental feature.\n",
      "  return torch.load(path, map_location=device)\n"
     ]
    }
   ],
   "source": [
    "clf = PointNetClassifier(devices=get_torch_devices())"
   ]
  },
  {
   "cell_type": "code",
   "execution_count": 6,
   "metadata": {},
   "outputs": [
    {
     "name": "stderr",
     "output_type": "stream",
     "text": [
      "/tmp/ipykernel_6560/1749426100.py:1: FutureWarning: You are using `torch.load` with `weights_only=False` (the current default value), which uses the default pickle module implicitly. It is possible to construct malicious pickle data which will execute arbitrary code during unpickling (See https://github.com/pytorch/pytorch/blob/main/SECURITY.md#untrusted-models for more details). In a future release, the default value for `weights_only` will be flipped to `True`. This limits the functions that could be executed during unpickling. Arbitrary objects will no longer be allowed to be loaded via this mode unless they are explicitly allowlisted by the user via `torch.serialization.add_safe_globals`. We recommend you start setting `weights_only=True` for any use case where you don't have full control of the loaded file. Please open an issue on GitHub for any issues related to this experimental feature.\n",
      "  ptv3_pcs = torch.load('/home/anguyenk/Documents/adaLN_epoch1599_grad_clip1_no_flash_attn_drop_010_grid_size_010_patch_size_64/samples.pth')\n"
     ]
    }
   ],
   "source": [
    "ptv3_pcs = torch.load('/home/anguyenk/Documents/adaLN_epoch1599_grad_clip1_no_flash_attn_drop_010_grid_size_010_patch_size_64/samples.pth')\n",
    "np.savez('/home/anguyenk/Documents/adaLN_epoch1599_grad_clip1_no_flash_attn_drop_010_grid_size_010_patch_size_64/samples.npz', ptv3_pcs.numpy())"
   ]
  },
  {
   "cell_type": "code",
   "execution_count": 14,
   "metadata": {},
   "outputs": [],
   "source": [
    "features_ptv3, preds_ptv3 = clf.features_and_preds(NpzStreamer('/home/anguyenk/Documents/adaLN_epoch1599_grad_clip1_no_flash_attn_drop_010_grid_size_010_patch_size_64/samples.npz'))\n",
    "features_pvd, preds_pvd = clf.features_and_preds(NpzStreamer('/home/anguyenk/Documents/point-e/point_e/examples/PVD_checkpoint_chairs.npz'))\n",
    "features_val, preds_val = clf.features_and_preds(NpzStreamer('/home/anguyenk/Documents/point-e/point_e/examples/val_chairs.npz'))"
   ]
  },
  {
   "cell_type": "code",
   "execution_count": 15,
   "metadata": {},
   "outputs": [],
   "source": [
    "stats_ptv3 = compute_statistics(features_ptv3)\n",
    "stats_pvd = compute_statistics(features_pvd)\n",
    "stats_val = compute_statistics(features_val)"
   ]
  },
  {
   "cell_type": "code",
   "execution_count": 24,
   "metadata": {},
   "outputs": [
    {
     "name": "stdout",
     "output_type": "stream",
     "text": [
      "P-FID: 13.822413519173551\n"
     ]
    }
   ],
   "source": [
    "print(f\"P-FID: {stats_pvd.frechet_distance(stats_val)}\")"
   ]
  },
  {
   "cell_type": "code",
   "execution_count": 25,
   "metadata": {},
   "outputs": [
    {
     "name": "stdout",
     "output_type": "stream",
     "text": [
      "P-IS: 2.6209261417388916\n"
     ]
    }
   ],
   "source": [
    "print(f\"P-IS: {compute_inception_score(preds_pvd)}\")"
   ]
  },
  {
   "cell_type": "code",
   "execution_count": 26,
   "metadata": {},
   "outputs": [
    {
     "name": "stdout",
     "output_type": "stream",
     "text": [
      "P-FID: 17.287379322255845\n"
     ]
    }
   ],
   "source": [
    "print(f\"P-FID: {stats_ptv3.frechet_distance(stats_val)}\")"
   ]
  },
  {
   "cell_type": "code",
   "execution_count": 27,
   "metadata": {},
   "outputs": [
    {
     "name": "stdout",
     "output_type": "stream",
     "text": [
      "P-IS: 2.6711742877960205\n"
     ]
    }
   ],
   "source": [
    "print(f\"P-IS: {compute_inception_score(preds_ptv3)}\")"
   ]
  },
  {
   "cell_type": "code",
   "execution_count": null,
   "metadata": {},
   "outputs": [],
   "source": []
  },
  {
   "cell_type": "code",
   "execution_count": 22,
   "metadata": {},
   "outputs": [
    {
     "name": "stdout",
     "output_type": "stream",
     "text": [
      "P-FID: 5.248544493347737\n"
     ]
    }
   ],
   "source": [
    "print(f\"P-FID: {stats_ptv3.frechet_distance(stats_pvd)}\")"
   ]
  },
  {
   "cell_type": "code",
   "execution_count": 23,
   "metadata": {},
   "outputs": [
    {
     "name": "stdout",
     "output_type": "stream",
     "text": [
      "P-FID: 5.248544493584291\n"
     ]
    }
   ],
   "source": [
    "print(f\"P-FID: {stats_pvd.frechet_distance(stats_ptv3)}\")"
   ]
  },
  {
   "cell_type": "code",
   "execution_count": null,
   "metadata": {},
   "outputs": [],
   "source": []
  }
 ],
 "metadata": {
  "kernelspec": {
   "display_name": "point_e",
   "language": "python",
   "name": "python3"
  },
  "language_info": {
   "codemirror_mode": {
    "name": "ipython",
    "version": 3
   },
   "file_extension": ".py",
   "mimetype": "text/x-python",
   "name": "python",
   "nbconvert_exporter": "python",
   "pygments_lexer": "ipython3",
   "version": "3.9.19"
  }
 },
 "nbformat": 4,
 "nbformat_minor": 2
}
